{
 "cells": [
  {
   "cell_type": "code",
   "execution_count": 2,
   "id": "7a9adff6-fb8b-4094-b143-b000c6c4c1f6",
   "metadata": {},
   "outputs": [],
   "source": [
    "import pandas as pd"
   ]
  },
  {
   "cell_type": "code",
   "execution_count": 4,
   "id": "c7a56631-f955-419f-96b5-21e9246c1a21",
   "metadata": {},
   "outputs": [
    {
     "name": "stdout",
     "output_type": "stream",
     "text": [
      "0    1\n",
      "1    2\n",
      "2    3\n",
      "3    4\n",
      "dtype: int64\n"
     ]
    }
   ],
   "source": [
    "# pandas series\n",
    "d=[1,2,3,4]\n",
    "s=pd.Series(d)\n",
    "print(s)"
   ]
  },
  {
   "cell_type": "code",
   "execution_count": 7,
   "id": "41a5bc2f-d149-4020-b30c-754f8aba777f",
   "metadata": {},
   "outputs": [
    {
     "name": "stdout",
     "output_type": "stream",
     "text": [
      "a    1\n",
      "s    2\n",
      "d    3\n",
      "f    4\n",
      "dtype: int64\n"
     ]
    }
   ],
   "source": [
    "# custom index\n",
    "d=[1,2,3,4]\n",
    "i=['a','s','d','f']\n",
    "series=pd.Series(d,index=i)\n",
    "print(series)"
   ]
  },
  {
   "cell_type": "code",
   "execution_count": 8,
   "id": "f43f7f73-0011-414a-8702-0cc689d66398",
   "metadata": {},
   "outputs": [
    {
     "name": "stdout",
     "output_type": "stream",
     "text": [
      "a    1\n",
      "b    2\n",
      "c    3\n",
      "dtype: int64\n"
     ]
    }
   ],
   "source": [
    "#dictionary\n",
    "d={'a':1,'b':2,'c':3}\n",
    "s=pd.Series(d)\n",
    "print(s)"
   ]
  },
  {
   "cell_type": "code",
   "execution_count": 9,
   "id": "64c1772b-a56a-40ce-a9b4-30592035e2f6",
   "metadata": {},
   "outputs": [
    {
     "data": {
      "text/plain": [
       "a    1\n",
       "s    5\n",
       "d    3\n",
       "f    4\n",
       "dtype: int64"
      ]
     },
     "execution_count": 9,
     "metadata": {},
     "output_type": "execute_result"
    }
   ],
   "source": [
    "series.replace(2,5)"
   ]
  },
  {
   "cell_type": "code",
   "execution_count": 12,
   "id": "76e6e19d-5e52-4d88-a4cf-071f1cf67c12",
   "metadata": {},
   "outputs": [
    {
     "name": "stdout",
     "output_type": "stream",
     "text": [
      "a    10\n",
      "b    20\n",
      "c    30\n",
      "dtype: int32\n"
     ]
    }
   ],
   "source": [
    "import numpy as np\n",
    "d=np.array([10,20,30])\n",
    "s=pd.Series(d,index=['a','b','c'])\n",
    "print(s)"
   ]
  },
  {
   "cell_type": "code",
   "execution_count": 13,
   "id": "f25b745a-1f71-4cc4-a2d9-2b4ec64a1a06",
   "metadata": {},
   "outputs": [
    {
     "name": "stdout",
     "output_type": "stream",
     "text": [
      "    nmae  age country\n",
      "0  alice   23      us\n",
      "1    bab   43   india\n",
      "2    cat   55      uk\n"
     ]
    }
   ],
   "source": [
    "s={'nmae':['alice','bab','cat'],'age':[23,43,55] , \\\n",
    "   'country':['us','india','uk']}\n",
    "d=pd.DataFrame(s)\n",
    "print(d)\n"
   ]
  },
  {
   "cell_type": "code",
   "execution_count": 17,
   "id": "83ac947f-fadf-449d-8ad2-29015cc62132",
   "metadata": {},
   "outputs": [
    {
     "name": "stdout",
     "output_type": "stream",
     "text": [
      "[[1 2 3]\n",
      " [5 6 7]\n",
      " [8 9 0]]\n",
      "   a  b  c\n",
      "0  1  2  3\n",
      "1  5  6  7\n",
      "2  8  9  0\n"
     ]
    }
   ],
   "source": [
    "import numpy as np\n",
    "a=np.array([[1,2,3],[5,6,7],[8,9,0]])\n",
    "print(a)\n",
    "df=pd.DataFrame(a,columns=['a','b','c'])\n",
    "print(df)"
   ]
  },
  {
   "cell_type": "code",
   "execution_count": 18,
   "id": "02f7e035-d00c-41df-9049-774c3af2a50f",
   "metadata": {},
   "outputs": [
    {
     "name": "stdout",
     "output_type": "stream",
     "text": [
      "[[1 2 3]\n",
      " [5 6 7]\n",
      " [8 9 0]]\n",
      "   0  1  2\n",
      "0  1  2  3\n",
      "1  5  6  7\n",
      "2  8  9  0\n"
     ]
    }
   ],
   "source": [
    "import numpy as np\n",
    "a=np.array([[1,2,3],[5,6,7],[8,9,0]])\n",
    "print(a)\n",
    "df=pd.DataFrame(a)\n",
    "print(df)"
   ]
  },
  {
   "cell_type": "code",
   "execution_count": null,
   "id": "50ae0037-998a-4d68-98ea-a5a0e2e9505d",
   "metadata": {},
   "outputs": [],
   "source": []
  }
 ],
 "metadata": {
  "kernelspec": {
   "display_name": "Python 3 (ipykernel)",
   "language": "python",
   "name": "python3"
  },
  "language_info": {
   "codemirror_mode": {
    "name": "ipython",
    "version": 3
   },
   "file_extension": ".py",
   "mimetype": "text/x-python",
   "name": "python",
   "nbconvert_exporter": "python",
   "pygments_lexer": "ipython3",
   "version": "3.12.7"
  }
 },
 "nbformat": 4,
 "nbformat_minor": 5
}
